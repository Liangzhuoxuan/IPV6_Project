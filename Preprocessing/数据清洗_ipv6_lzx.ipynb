{
 "cells": [
  {
   "cell_type": "code",
   "execution_count": 19,
   "metadata": {},
   "outputs": [],
   "source": [
    "import pandas as pd\n",
    "import numpy as np\n",
    "\n",
    "\n",
    "def replenish_ip(ip):\n",
    "    '''\n",
    "    补全ip中的 :: 为0000\n",
    "    补全ip中前导0的省略\n",
    "    '''\n",
    "    org_length = 8\n",
    "    splited_ = ip.split(':')\n",
    "    if '' in splited_:\n",
    "        length = len(splited_) - 1\n",
    "    else:\n",
    "        length = len(splited_)\n",
    "    d = org_length - length\n",
    "    if ip.endswith('::'):\n",
    "        ip = ip.replace('::', ':0000'*d)\n",
    "    else:\n",
    "        ip = ip.replace('::', ':0000'*d + ':')\n",
    "    _temp = ip.split(':')\n",
    "    # print(temp)\n",
    "    for index, i in enumerate(_temp):\n",
    "        l = len(i)\n",
    "        if l < 4:\n",
    "            d = 4 - l\n",
    "            _temp[index] = '0'*d + i\n",
    "\n",
    "    return ':'.join(_temp)\n",
    "\n",
    "\n",
    "def hex_to_bin(ip):\n",
    "    # 排除奇奇怪怪的东西 \"2.at.pool.ntp.org\", '[2a0a' 这样的东西\n",
    "    if ':' not in ip or '[' in ip:\n",
    "        return 'error_ip' # 记住在进行apply完之后要检查一遍 'error_ip'\n",
    "    ip = replenish_ip(ip)\n",
    "    ip = ip.split(':')\n",
    "    memory_list = []\n",
    "    for i in ip:\n",
    "        temp__ = int(i, 16)\n",
    "        b = bin(temp__)[2:]\n",
    "        x = len(b)\n",
    "        if x < 16:\n",
    "            d = 16 - x\n",
    "            b = '0'*d + b\n",
    "        memory_list.append(b)\n",
    "    final = ''.join(memory_list)\n",
    "    \n",
    "    return final[104:]"
   ]
  },
  {
   "cell_type": "code",
   "execution_count": 2,
   "metadata": {
    "collapsed": true,
    "jupyter": {
     "outputs_hidden": true
    }
   },
   "outputs": [
    {
     "data": {
      "text/html": [
       "<div>\n",
       "<style scoped>\n",
       "    .dataframe tbody tr th:only-of-type {\n",
       "        vertical-align: middle;\n",
       "    }\n",
       "\n",
       "    .dataframe tbody tr th {\n",
       "        vertical-align: top;\n",
       "    }\n",
       "\n",
       "    .dataframe thead th {\n",
       "        text-align: right;\n",
       "    }\n",
       "</style>\n",
       "<table border=\"1\" class=\"dataframe\">\n",
       "  <thead>\n",
       "    <tr style=\"text-align: right;\">\n",
       "      <th></th>\n",
       "      <th>ip</th>\n",
       "      <th>label</th>\n",
       "    </tr>\n",
       "  </thead>\n",
       "  <tbody>\n",
       "    <tr>\n",
       "      <th>0</th>\n",
       "      <td>240e:e2:1c:31af:d260:8c21:5a52:4bcd</td>\n",
       "      <td>2</td>\n",
       "    </tr>\n",
       "    <tr>\n",
       "      <th>1</th>\n",
       "      <td>240e:e2:1c:31af:b6de:df46:5a39:8168</td>\n",
       "      <td>2</td>\n",
       "    </tr>\n",
       "    <tr>\n",
       "      <th>2</th>\n",
       "      <td>240e:e2:1c:31af:8a5d:fbf0:9f6a:1b38</td>\n",
       "      <td>2</td>\n",
       "    </tr>\n",
       "    <tr>\n",
       "      <th>3</th>\n",
       "      <td>240e:e2:1c:31af:76e1:9a29:46d3:ab00</td>\n",
       "      <td>2</td>\n",
       "    </tr>\n",
       "    <tr>\n",
       "      <th>4</th>\n",
       "      <td>240e:e2:1c:31af:6a9f:f0c9:755d:819b</td>\n",
       "      <td>2</td>\n",
       "    </tr>\n",
       "    <tr>\n",
       "      <th>5</th>\n",
       "      <td>240e:e2:1c:31af:62bb:c83:ff62:3732</td>\n",
       "      <td>2</td>\n",
       "    </tr>\n",
       "    <tr>\n",
       "      <th>6</th>\n",
       "      <td>240e:e2:1c:31ab:a3f:bc6a:adad:a903</td>\n",
       "      <td>2</td>\n",
       "    </tr>\n",
       "    <tr>\n",
       "      <th>7</th>\n",
       "      <td>240e:e2:1c:31ab:36da:b714:372c:69cf</td>\n",
       "      <td>2</td>\n",
       "    </tr>\n",
       "    <tr>\n",
       "      <th>8</th>\n",
       "      <td>240e:e2:1c:31ab:2be:9ec1:db01:32c0</td>\n",
       "      <td>2</td>\n",
       "    </tr>\n",
       "    <tr>\n",
       "      <th>9</th>\n",
       "      <td>240e:e2:1c:31ab:1288:ce96:1ac7:6694</td>\n",
       "      <td>2</td>\n",
       "    </tr>\n",
       "    <tr>\n",
       "      <th>10</th>\n",
       "      <td>240e:e2:1c:31a4:f64c:7fed:5711:2318</td>\n",
       "      <td>2</td>\n",
       "    </tr>\n",
       "    <tr>\n",
       "      <th>11</th>\n",
       "      <td>240e:e2:1c:31a4:e228:61d2:b67f:709</td>\n",
       "      <td>2</td>\n",
       "    </tr>\n",
       "    <tr>\n",
       "      <th>12</th>\n",
       "      <td>240e:e2:1c:31a4:c6c7:551d:2936:98a</td>\n",
       "      <td>2</td>\n",
       "    </tr>\n",
       "    <tr>\n",
       "      <th>13</th>\n",
       "      <td>240e:e2:1c:3192:b6de:df00:2321:69cf</td>\n",
       "      <td>2</td>\n",
       "    </tr>\n",
       "    <tr>\n",
       "      <th>14</th>\n",
       "      <td>240e:e2:1c:3192:b2e2:e5c2:dc6:1d52</td>\n",
       "      <td>2</td>\n",
       "    </tr>\n",
       "    <tr>\n",
       "      <th>15</th>\n",
       "      <td>240e:e2:1c:3192:76e1:9a94:d1cf:5080</td>\n",
       "      <td>2</td>\n",
       "    </tr>\n",
       "    <tr>\n",
       "      <th>16</th>\n",
       "      <td>240e:e2:1c:3192:5a60:5f8c:e7e9:deba</td>\n",
       "      <td>2</td>\n",
       "    </tr>\n",
       "    <tr>\n",
       "      <th>17</th>\n",
       "      <td>240e:e2:1c:3192:2be:9e23:702e:5930</td>\n",
       "      <td>2</td>\n",
       "    </tr>\n",
       "    <tr>\n",
       "      <th>18</th>\n",
       "      <td>240e:e2:1c:3191:8a5d:fbbf:2565:6e2f</td>\n",
       "      <td>2</td>\n",
       "    </tr>\n",
       "    <tr>\n",
       "      <th>19</th>\n",
       "      <td>240e:e2:1c:3184:b6de:df7f:ad24:8f10</td>\n",
       "      <td>2</td>\n",
       "    </tr>\n",
       "    <tr>\n",
       "      <th>20</th>\n",
       "      <td>240e:e2:1c:3184:62bb:c57:e2dc:d43c</td>\n",
       "      <td>2</td>\n",
       "    </tr>\n",
       "    <tr>\n",
       "      <th>21</th>\n",
       "      <td>240e:e2:1c:3184:62bb:c48:aa4b:2c21</td>\n",
       "      <td>2</td>\n",
       "    </tr>\n",
       "    <tr>\n",
       "      <th>22</th>\n",
       "      <td>240e:e2:1c:3183:f657:3ed1:8004:3930</td>\n",
       "      <td>2</td>\n",
       "    </tr>\n",
       "    <tr>\n",
       "      <th>23</th>\n",
       "      <td>240e:e2:1c:3183:e228:6152:486:b86f</td>\n",
       "      <td>2</td>\n",
       "    </tr>\n",
       "    <tr>\n",
       "      <th>24</th>\n",
       "      <td>240e:e2:1c:3183:c6c7:556c:a932:4ff2</td>\n",
       "      <td>2</td>\n",
       "    </tr>\n",
       "    <tr>\n",
       "      <th>25</th>\n",
       "      <td>240e:e2:1c:3183:8a5d:fbed:aa78:f1da</td>\n",
       "      <td>2</td>\n",
       "    </tr>\n",
       "    <tr>\n",
       "      <th>26</th>\n",
       "      <td>240e:e2:1c:3183:62bb:ce1:a2d2:29e0</td>\n",
       "      <td>2</td>\n",
       "    </tr>\n",
       "    <tr>\n",
       "      <th>27</th>\n",
       "      <td>240e:e2:1c:3180:e62f:26e9:217e:4b47</td>\n",
       "      <td>2</td>\n",
       "    </tr>\n",
       "    <tr>\n",
       "      <th>28</th>\n",
       "      <td>240e:e2:1c:3180:ca40:2987:df06:c169</td>\n",
       "      <td>2</td>\n",
       "    </tr>\n",
       "    <tr>\n",
       "      <th>29</th>\n",
       "      <td>240e:e2:1c:317c:f6b8:a771:556e:8fe1</td>\n",
       "      <td>2</td>\n",
       "    </tr>\n",
       "    <tr>\n",
       "      <th>...</th>\n",
       "      <td>...</td>\n",
       "      <td>...</td>\n",
       "    </tr>\n",
       "    <tr>\n",
       "      <th>3373642</th>\n",
       "      <td>2001:7f8:8d::</td>\n",
       "      <td>0</td>\n",
       "    </tr>\n",
       "    <tr>\n",
       "      <th>3373643</th>\n",
       "      <td>2001:7f8:23:ffff::</td>\n",
       "      <td>0</td>\n",
       "    </tr>\n",
       "    <tr>\n",
       "      <th>3373644</th>\n",
       "      <td>2001:504:1a::34:0</td>\n",
       "      <td>0</td>\n",
       "    </tr>\n",
       "    <tr>\n",
       "      <th>3373645</th>\n",
       "      <td>2001:4350:3000:1::</td>\n",
       "      <td>0</td>\n",
       "    </tr>\n",
       "    <tr>\n",
       "      <th>3373646</th>\n",
       "      <td>2001:4350:3000::</td>\n",
       "      <td>0</td>\n",
       "    </tr>\n",
       "    <tr>\n",
       "      <th>3373647</th>\n",
       "      <td>2001:7f8:d6::</td>\n",
       "      <td>0</td>\n",
       "    </tr>\n",
       "    <tr>\n",
       "      <th>3373648</th>\n",
       "      <td>2001:504:29::</td>\n",
       "      <td>0</td>\n",
       "    </tr>\n",
       "    <tr>\n",
       "      <th>3373649</th>\n",
       "      <td>2001:7f8:73::</td>\n",
       "      <td>0</td>\n",
       "    </tr>\n",
       "    <tr>\n",
       "      <th>3373650</th>\n",
       "      <td>2001:43f8:130::</td>\n",
       "      <td>0</td>\n",
       "    </tr>\n",
       "    <tr>\n",
       "      <th>3373651</th>\n",
       "      <td>2001:7f8:7d::</td>\n",
       "      <td>0</td>\n",
       "    </tr>\n",
       "    <tr>\n",
       "      <th>3373652</th>\n",
       "      <td>2a0b:9600::</td>\n",
       "      <td>0</td>\n",
       "    </tr>\n",
       "    <tr>\n",
       "      <th>3373653</th>\n",
       "      <td>2602:ffb1:4000::</td>\n",
       "      <td>0</td>\n",
       "    </tr>\n",
       "    <tr>\n",
       "      <th>3373654</th>\n",
       "      <td>2001:504:41:110::</td>\n",
       "      <td>0</td>\n",
       "    </tr>\n",
       "    <tr>\n",
       "      <th>3373655</th>\n",
       "      <td>2001:7f8:30::</td>\n",
       "      <td>0</td>\n",
       "    </tr>\n",
       "    <tr>\n",
       "      <th>3373656</th>\n",
       "      <td>2001:de8:3::</td>\n",
       "      <td>0</td>\n",
       "    </tr>\n",
       "    <tr>\n",
       "      <th>3373657</th>\n",
       "      <td>2001:7f8:5f:ffff::</td>\n",
       "      <td>0</td>\n",
       "    </tr>\n",
       "    <tr>\n",
       "      <th>3373658</th>\n",
       "      <td>2001:7f8:5f:ffef::</td>\n",
       "      <td>0</td>\n",
       "    </tr>\n",
       "    <tr>\n",
       "      <th>3373659</th>\n",
       "      <td>2001:504:39::</td>\n",
       "      <td>0</td>\n",
       "    </tr>\n",
       "    <tr>\n",
       "      <th>3373660</th>\n",
       "      <td>2001:dec:0:1::</td>\n",
       "      <td>0</td>\n",
       "    </tr>\n",
       "    <tr>\n",
       "      <th>3373661</th>\n",
       "      <td>2001:504:68::</td>\n",
       "      <td>0</td>\n",
       "    </tr>\n",
       "    <tr>\n",
       "      <th>3373662</th>\n",
       "      <td>2001:504:68:1::</td>\n",
       "      <td>0</td>\n",
       "    </tr>\n",
       "    <tr>\n",
       "      <th>3373663</th>\n",
       "      <td>2001:7fa:11:1::</td>\n",
       "      <td>0</td>\n",
       "    </tr>\n",
       "    <tr>\n",
       "      <th>3373664</th>\n",
       "      <td>2001:628:4fe::</td>\n",
       "      <td>0</td>\n",
       "    </tr>\n",
       "    <tr>\n",
       "      <th>3373665</th>\n",
       "      <td>2001:de8:a::</td>\n",
       "      <td>0</td>\n",
       "    </tr>\n",
       "    <tr>\n",
       "      <th>3373666</th>\n",
       "      <td>2001:7fa:6::</td>\n",
       "      <td>0</td>\n",
       "    </tr>\n",
       "    <tr>\n",
       "      <th>3373667</th>\n",
       "      <td>2001:43f8:11f0::</td>\n",
       "      <td>0</td>\n",
       "    </tr>\n",
       "    <tr>\n",
       "      <th>3373668</th>\n",
       "      <td>2001:7fa:3:ca07::</td>\n",
       "      <td>0</td>\n",
       "    </tr>\n",
       "    <tr>\n",
       "      <th>3373669</th>\n",
       "      <td>2001:7fa:11::</td>\n",
       "      <td>0</td>\n",
       "    </tr>\n",
       "    <tr>\n",
       "      <th>3373670</th>\n",
       "      <td>2001:504:2c::</td>\n",
       "      <td>0</td>\n",
       "    </tr>\n",
       "    <tr>\n",
       "      <th>3373671</th>\n",
       "      <td>2001:7f8:1:1::</td>\n",
       "      <td>0</td>\n",
       "    </tr>\n",
       "  </tbody>\n",
       "</table>\n",
       "<p>3373672 rows × 2 columns</p>\n",
       "</div>"
      ],
      "text/plain": [
       "                                          ip  label\n",
       "0        240e:e2:1c:31af:d260:8c21:5a52:4bcd      2\n",
       "1        240e:e2:1c:31af:b6de:df46:5a39:8168      2\n",
       "2        240e:e2:1c:31af:8a5d:fbf0:9f6a:1b38      2\n",
       "3        240e:e2:1c:31af:76e1:9a29:46d3:ab00      2\n",
       "4        240e:e2:1c:31af:6a9f:f0c9:755d:819b      2\n",
       "...                                      ...    ...\n",
       "3373667                     2001:43f8:11f0::      0\n",
       "3373668                    2001:7fa:3:ca07::      0\n",
       "3373669                        2001:7fa:11::      0\n",
       "3373670                        2001:504:2c::      0\n",
       "3373671                       2001:7f8:1:1::      0\n",
       "\n",
       "[3373672 rows x 2 columns]"
      ]
     },
     "execution_count": 2,
     "metadata": {},
     "output_type": "execute_result"
    }
   ],
   "source": [
    "path = 'D:/ipv6_label_lzx20190904.csv'\n",
    "\n",
    "df = pd.read_csv(path)\n",
    "df"
   ]
  },
  {
   "cell_type": "code",
   "execution_count": 3,
   "metadata": {},
   "outputs": [],
   "source": [
    "temp = df.copy()\n",
    "\n",
    "temp = temp[temp['label'] == 0] # 选出 DHCP"
   ]
  },
  {
   "cell_type": "code",
   "execution_count": 4,
   "metadata": {},
   "outputs": [
    {
     "data": {
      "text/plain": [
       "260        240e:e2:1c:2f99:e6bd:4bde:b4bb:9d9f\n",
       "380         240e:e2:1c:2eb4:b2e2:e522:cc0:ebe8\n",
       "388         240e:e2:1c:2eb4:2be:9e8e:832e:88b0\n",
       "428          240e:e2:1c:2e0b:a3f:bc0f:b0ba:b04\n",
       "635        240e:e2:1c:2c20:6a9f:f02a:935f:aaaf\n",
       "                          ...                 \n",
       "3373667                       2001:43f8:11f0::\n",
       "3373668                      2001:7fa:3:ca07::\n",
       "3373669                          2001:7fa:11::\n",
       "3373670                          2001:504:2c::\n",
       "3373671                         2001:7f8:1:1::\n",
       "Name: ip, Length: 1995755, dtype: object"
      ]
     },
     "execution_count": 4,
     "metadata": {},
     "output_type": "execute_result"
    }
   ],
   "source": [
    "temp = temp['ip']\n",
    "temp"
   ]
  },
  {
   "cell_type": "code",
   "execution_count": 5,
   "metadata": {},
   "outputs": [
    {
     "data": {
      "text/plain": [
       "pandas.core.series.Series"
      ]
     },
     "execution_count": 5,
     "metadata": {},
     "output_type": "execute_result"
    }
   ],
   "source": [
    "type(temp)"
   ]
  },
  {
   "cell_type": "code",
   "execution_count": 6,
   "metadata": {},
   "outputs": [
    {
     "data": {
      "text/plain": [
       "2766842    4ixp.com\n",
       "Name: ip, dtype: object"
      ]
     },
     "execution_count": 6,
     "metadata": {},
     "output_type": "execute_result"
    }
   ],
   "source": [
    "temp[temp.str.contains('4ixp.com')]"
   ]
  },
  {
   "cell_type": "code",
   "execution_count": 7,
   "metadata": {},
   "outputs": [
    {
     "name": "stdout",
     "output_type": "stream",
     "text": [
      "2001:1250:ffe0:2::1\n",
      "4ixp.com\n",
      "2c0f:feb0:d:1::8\n",
      "************************************************************\n"
     ]
    }
   ],
   "source": [
    "print(temp[2766841])\n",
    "print(temp[2766842])\n",
    "temp.drop(index=2766842, inplace=True)# 删除异常的值\n",
    "print(temp[2766843])\n",
    "\n",
    "print('**'*30)\n",
    "\n",
    "# print(temp[2766841])\n",
    "# print(temp[2766842])\n",
    "# print(temp[2766843])  应当重置索引"
   ]
  },
  {
   "cell_type": "code",
   "execution_count": 18,
   "metadata": {},
   "outputs": [
    {
     "name": "stdout",
     "output_type": "stream",
     "text": [
      "Wall time: 17.1 s\n"
     ]
    },
    {
     "data": {
      "text/plain": [
       "260        101110111001110110011111\n",
       "380        110000001110101111101000\n",
       "388        001011101000100010110000\n",
       "428        101110100000101100000100\n",
       "635        010111111010101010101111\n",
       "                     ...           \n",
       "3373667                    00000000\n",
       "3373668                    00000000\n",
       "3373669                    00000000\n",
       "3373670                    00000000\n",
       "3373671                    00000000\n",
       "Name: ip, Length: 1995754, dtype: object"
      ]
     },
     "execution_count": 18,
     "metadata": {},
     "output_type": "execute_result"
    }
   ],
   "source": [
    "%%time\n",
    "temp_ = temp.apply(hex_to_bin)\n",
    "temp_"
   ]
  },
  {
   "cell_type": "code",
   "execution_count": 22,
   "metadata": {},
   "outputs": [
    {
     "data": {
      "text/plain": [
       "2768627    error_ip\n",
       "3347362    error_ip\n",
       "3347364    error_ip\n",
       "3347365    error_ip\n",
       "3347366    error_ip\n",
       "             ...   \n",
       "3348619    error_ip\n",
       "3348622    error_ip\n",
       "3348628    error_ip\n",
       "3348648    error_ip\n",
       "3348649    error_ip\n",
       "Name: ip, Length: 863, dtype: object"
      ]
     },
     "execution_count": 22,
     "metadata": {},
     "output_type": "execute_result"
    }
   ],
   "source": [
    "temp_[temp_ == 'error_ip'] # 190w 条数据里面有 863条 异常ip"
   ]
  },
  {
   "cell_type": "code",
   "execution_count": 23,
   "metadata": {},
   "outputs": [
    {
     "data": {
      "text/plain": [
       "Int64Index([2768627, 3347362, 3347364, 3347365, 3347366, 3347368, 3347369,\n",
       "            3347370, 3347371, 3347372,\n",
       "            ...\n",
       "            3348614, 3348615, 3348616, 3348617, 3348618, 3348619, 3348622,\n",
       "            3348628, 3348648, 3348649],\n",
       "           dtype='int64', length=863)"
      ]
     },
     "execution_count": 23,
     "metadata": {},
     "output_type": "execute_result"
    }
   ],
   "source": [
    "temp_[temp_ == 'error_ip'].index"
   ]
  },
  {
   "cell_type": "code",
   "execution_count": 24,
   "metadata": {},
   "outputs": [
    {
     "name": "stdout",
     "output_type": "stream",
     "text": [
      "(1995754,)\n",
      "(1994891,)\n"
     ]
    }
   ],
   "source": [
    "err_index = temp_[temp_ == 'error_ip'].index\n",
    "\n",
    "print(temp_.shape)\n",
    "temp_.drop(index=err_index, inplace=True)\n",
    "print(temp_.shape)"
   ]
  },
  {
   "cell_type": "code",
   "execution_count": 25,
   "metadata": {},
   "outputs": [
    {
     "data": {
      "text/plain": [
       "863"
      ]
     },
     "execution_count": 25,
     "metadata": {},
     "output_type": "execute_result"
    }
   ],
   "source": [
    "1995754 - 1994891"
   ]
  },
  {
   "cell_type": "code",
   "execution_count": 26,
   "metadata": {},
   "outputs": [
    {
     "data": {
      "text/plain": [
       "'00000000'"
      ]
     },
     "execution_count": 26,
     "metadata": {},
     "output_type": "execute_result"
    }
   ],
   "source": [
    "temp_[3373667]"
   ]
  },
  {
   "cell_type": "code",
   "execution_count": 28,
   "metadata": {},
   "outputs": [
    {
     "data": {
      "text/plain": [
       "'2001:43f8:11f0::'"
      ]
     },
     "execution_count": 28,
     "metadata": {},
     "output_type": "execute_result"
    }
   ],
   "source": [
    "temp[3373667]"
   ]
  },
  {
   "cell_type": "code",
   "execution_count": 34,
   "metadata": {},
   "outputs": [
    {
     "data": {
      "text/plain": [
       "2864       00000000\n",
       "19363      00000000\n",
       "20065      00000000\n",
       "20077      00000000\n",
       "20089      00000000\n",
       "             ...   \n",
       "3373667    00000000\n",
       "3373668    00000000\n",
       "3373669    00000000\n",
       "3373670    00000000\n",
       "3373671    00000000\n",
       "Name: ip, Length: 109869, dtype: object"
      ]
     },
     "execution_count": 34,
     "metadata": {},
     "output_type": "execute_result"
    }
   ],
   "source": [
    "temp_[temp_.str.len() < 24]"
   ]
  },
  {
   "cell_type": "code",
   "execution_count": 36,
   "metadata": {},
   "outputs": [
    {
     "data": {
      "text/plain": [
       "2864       8\n",
       "19363      8\n",
       "20065      8\n",
       "20077      8\n",
       "20089      8\n",
       "          ..\n",
       "3373667    8\n",
       "3373668    8\n",
       "3373669    8\n",
       "3373670    8\n",
       "3373671    8\n",
       "Name: ip, Length: 109869, dtype: int64"
      ]
     },
     "execution_count": 36,
     "metadata": {},
     "output_type": "execute_result"
    }
   ],
   "source": [
    "temp_[temp_.str.len() < 24].str.len() # 查看算法是否有异常，是不是 len < 24 的都是全 0 的 "
   ]
  },
  {
   "cell_type": "code",
   "execution_count": 42,
   "metadata": {},
   "outputs": [
    {
     "data": {
      "text/plain": [
       "Series([], Name: ip, dtype: object)"
      ]
     },
     "execution_count": 42,
     "metadata": {},
     "output_type": "execute_result"
    }
   ],
   "source": [
    "temp_[temp_.str.len() < 24][temp_.str.len() != 8] \n",
    "# 证明 字符串 len < 24 即 len == 8 的都是全0的字符串，算法没有错误"
   ]
  },
  {
   "cell_type": "code",
   "execution_count": 47,
   "metadata": {},
   "outputs": [
    {
     "name": "stderr",
     "output_type": "stream",
     "text": [
      "d:\\anaconda_file\\lib\\site-packages\\ipykernel_launcher.py:1: FutureWarning: The signature of `Series.to_csv` was aligned to that of `DataFrame.to_csv`, and argument 'header' will change its default value from False to True: please pass an explicit value to suppress this warning.\n",
      "  \"\"\"Entry point for launching an IPython kernel.\n"
     ]
    }
   ],
   "source": [
    "temp_.to_csv('D:/from_104_to_128.csv', index=False)"
   ]
  },
  {
   "cell_type": "code",
   "execution_count": 49,
   "metadata": {},
   "outputs": [],
   "source": [
    "temp_.to_pickle('D:/from_104_to_128.pk')"
   ]
  },
  {
   "cell_type": "code",
   "execution_count": 50,
   "metadata": {},
   "outputs": [
    {
     "data": {
      "text/plain": [
       "260        101110111001110110011111\n",
       "380        110000001110101111101000\n",
       "388        001011101000100010110000\n",
       "428        101110100000101100000100\n",
       "635        010111111010101010101111\n",
       "                     ...           \n",
       "3373667                    00000000\n",
       "3373668                    00000000\n",
       "3373669                    00000000\n",
       "3373670                    00000000\n",
       "3373671                    00000000\n",
       "Name: ip, Length: 1994891, dtype: object"
      ]
     },
     "execution_count": 50,
     "metadata": {},
     "output_type": "execute_result"
    }
   ],
   "source": [
    "pd.read_pickle('D:/from_104_to_128.pk')"
   ]
  },
  {
   "cell_type": "code",
   "execution_count": 52,
   "metadata": {},
   "outputs": [
    {
     "data": {
      "text/plain": [
       "'240e:e2:1c:2f99:e6bd:4bde:b4bb:9d9f'"
      ]
     },
     "execution_count": 52,
     "metadata": {},
     "output_type": "execute_result"
    }
   ],
   "source": [
    "temp[260]"
   ]
  },
  {
   "cell_type": "code",
   "execution_count": null,
   "metadata": {},
   "outputs": [],
   "source": []
  }
 ],
 "metadata": {
  "kernelspec": {
   "display_name": "Python 3",
   "language": "python",
   "name": "python3"
  },
  "language_info": {
   "codemirror_mode": {
    "name": "ipython",
    "version": 3
   },
   "file_extension": ".py",
   "mimetype": "text/x-python",
   "name": "python",
   "nbconvert_exporter": "python",
   "pygments_lexer": "ipython3",
   "version": "3.7.0"
  }
 },
 "nbformat": 4,
 "nbformat_minor": 4
}
